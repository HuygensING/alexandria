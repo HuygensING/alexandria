{
 "cells": [
  {
   "cell_type": "markdown",
   "metadata": {},
   "source": [
    "# Instructions"
   ]
  },
  {
   "cell_type": "markdown",
   "metadata": {},
   "source": [
    "### Organise your file system\n",
    "\n",
    "Before we start, make sure your file system is in good order and that you adhere to the [\"file system hygiene\"](http://nbviewer.jupyter.org/github/DiXiT-eu/collatex-tutorial/blob/master/unit1/Command_line.ipynb#The-hierarchical-file-system) principles. We advise you to create a separate folder for your work with _Alexandria_ (which you may call something like `alexandria`). You can create this folder anywhere you like, but an appropriate place is your Home directory. \n",
    "\n",
    "Within your new `alexandria` folder, you can create a subfolder `transcriptions` to store your own transcriptions and a subfolder `views` to store any views you're going to define. This ensures you have all your files in one place and easy to reach."
   ]
  },
  {
   "cell_type": "markdown",
   "metadata": {},
   "source": [
    "### Download and install\n",
    "\n",
    "You can dowload an up-to-date version of Alexandria [here](https://cdn.huygens.knaw.nl/alexandria/alexandria-app.zip). This downloads a zip file called `alexandria-app`. Unpack the zip file in your `alexandria` folder. The zip contains three subfolders: a `lib` folder with the fat jar, a `bin` folder with the alexandria scripts for linux and windows, and an `example` folder. You can ignore the first two folders, but the `example` folder comes in handy later if you need a template to define views on your text."
   ]
  },
  {
   "cell_type": "markdown",
   "metadata": {},
   "source": [
    "Your file system hierarchy will look something like this:"
   ]
  },
  {
   "cell_type": "markdown",
   "metadata": {},
   "source": [
    "<img src=\"images/example-file-system-hierarchy.png\" height=\"700\" width=\"700\">"
   ]
  },
  {
   "cell_type": "markdown",
   "metadata": {},
   "source": [
    "Now that you've downloaded Alexandria, you can start it from anywhere on your machine. In your terminal, navigate to the `alexandria` folder (with `$ cd projects/alexandria`). \n",
    "\n",
    "First, type `pwd` to check whether you're in the right folder. This should give \n",
    "\n",
    "    /Users/<your-username>/projects/alexandria\n",
    "    \n",
    "Once you're in the right folder, you can launch with the command `alexandria init`. "
   ]
  },
  {
   "cell_type": "markdown",
   "metadata": {},
   "source": [
    "### More information"
   ]
  },
  {
   "cell_type": "markdown",
   "metadata": {},
   "source": [
    "For detailed instructions about the usage of _Alexandria_, see [the manual](https://github.com/HuygensING/alexandria-markup-server/blob/tutorial/tutorial-alexandria.ipynb)."
   ]
  },
  {
   "cell_type": "markdown",
   "metadata": {},
   "source": [
    "If you're unfamiliar with working on the command line, you can find a good tutorial [here](https://www.davidbaumgold.com/tutorials/command-line/). If you've worked on the command line before but would like to refresh your knowledge, we've created a [brief overview](http://nbviewer.jupyter.org/github/DiXiT-eu/collatex-tutorial/blob/master/unit1/Command_line.ipynb#Accessing-the-command-line)."
   ]
  }
 ],
 "metadata": {
  "kernelspec": {
   "display_name": "Python 3",
   "language": "python",
   "name": "python3"
  },
  "language_info": {
   "codemirror_mode": {
    "name": "ipython",
    "version": 3
   },
   "file_extension": ".py",
   "mimetype": "text/x-python",
   "name": "python",
   "nbconvert_exporter": "python",
   "pygments_lexer": "ipython3",
   "version": "3.6.5"
  }
 },
 "nbformat": 4,
 "nbformat_minor": 2
}
