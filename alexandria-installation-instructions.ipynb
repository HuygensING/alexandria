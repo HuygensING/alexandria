{
 "cells": [
  {
   "cell_type": "markdown",
   "metadata": {},
   "source": [
    "## UNDER CONSTRUCTION"
   ]
  },
  {
   "cell_type": "markdown",
   "metadata": {},
   "source": [
    "#### Download and install\n",
    "\n",
    "You can dowload an up-to-date version of Alexandria [here](https://cdn.huygens.knaw.nl/alexandria/alexandria-app.zip). \n",
    "\n",
    "This download installs a zip file called `alexandria-app`; unpack it in a directory of your choice. Keep in mind, though, the importance of a good \"filesystem hygiene\". In short: create a relevant folder in a place that you can easily reach and make sure the folder is [properly named](http://nbviewer.jupyter.org/github/DiXiT-eu/collatex-tutorial/blob/master/unit1/Command_line.ipynb#File-naming-conventions). We advise you to create a separate folder for Alexandria, named something like `alexandria-test`. You can create it anywhere you like, but an appropriate place is your Home directory. "
   ]
  },
  {
   "cell_type": "markdown",
   "metadata": {},
   "source": [
    "Within the `alexandria-text` folder, you can create a subfolder `transcriptions` to store your own transcriptions and a subfolder `views` to store any views you're going to define. This ensures you have all your files in one place and easy to reach.\n",
    "\n",
    "The `alexandria-app` folder contains three subfolders: a `lib` folder with the fat jar, a `bin` folder with the alexandria scripts for linux and windows, and an `example` folder. You can ignore the first two folders, but the `example` folder comes in handy if you want some templates for the views.\n",
    "\n",
    "Now that you've downloaded Alexandria, you can start it from anywhere on your machine. Once you feel confident about the command line and have installed Alexandria, you can start by creating a transcription."
   ]
  },
  {
   "cell_type": "code",
   "execution_count": null,
   "metadata": {},
   "outputs": [],
   "source": []
  }
 ],
 "metadata": {
  "kernelspec": {
   "display_name": "Python 3",
   "language": "python",
   "name": "python3"
  },
  "language_info": {
   "codemirror_mode": {
    "name": "ipython",
    "version": 3
   },
   "file_extension": ".py",
   "mimetype": "text/x-python",
   "name": "python",
   "nbconvert_exporter": "python",
   "pygments_lexer": "ipython3",
   "version": "3.6.5"
  }
 },
 "nbformat": 4,
 "nbformat_minor": 2
}
