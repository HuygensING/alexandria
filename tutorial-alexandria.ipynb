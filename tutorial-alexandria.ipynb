{
 "cells": [
  {
   "cell_type": "markdown",
   "metadata": {},
   "source": [
    "# Alexandria, a manual."
   ]
  },
  {
   "cell_type": "markdown",
   "metadata": {},
   "source": [
    "This is a detailed, step-by-step guide to using _Alexandria_ for digital text editing."
   ]
  },
  {
   "cell_type": "markdown",
   "metadata": {},
   "source": [
    "## 1. What is _Alexandria_?"
   ]
  },
  {
   "cell_type": "markdown",
   "metadata": {},
   "source": [
    "### Introduction\n",
    "\n",
    "Briefly put, _Alexandria_ is a text repository system in which you can store and edit documents. It is the reference implementation of TAG (Text-as-Graph), a flexible graph data model for text. Here, the term \"reference implementation\" means that _Alexandria_ implements all the properties of the TAG model. So, by working with _Alexandria_ you'll learn more about TAG. And vice versa, if you want to experiment with the flexibilities of the TAG model _Alexandria_ is where you start. \n",
    "\n",
    "You'll quickly find out that _Alexandria_ is not just any text repository. It builds on the idea that a text can be studied from various perspectives. For example, you can model a text according to a textual perspective or a documentary perspective; you can focus on adding linguistic annotations of a text, or rather information about structure of its verses. In _Alexandria_, you can store those different perspectives on the same text. What is more, _Alexandria_ is build along the principles of a distributed architecture. It is a command line tool and it can be integrated in your own editor of choice.\n",
    "\n",
    "By bringing together a wide range of information about a text in a structural and distributed way, _Alexandria_ facilitates the exchange and reuse of scholarly data. In short, _Alexandria_ is a powerful modeling instrument for digital textual research."
   ]
  },
  {
   "cell_type": "markdown",
   "metadata": {},
   "source": [
    "### Can I use it?\n",
    "\n",
    "Yes, you can. Below we explain in detail how _Alexandria_ works and what you need to oprate it. Keep in mind that both the TAG data model and the _Alexandria_ implementation are under development. This means that by using _Alexandria_ you will make a valuable contribution to the development process. We therefore encourage you to try it out and share your thoughts. "
   ]
  },
  {
   "cell_type": "markdown",
   "metadata": {},
   "source": [
    "### Why should I use it?\n",
    "\n",
    "If you enjoy experimenting with data models and advanced text analysis, _Alexandria_ is the tool for you. If you're used to working with XML, it is highly enlightening to work with a data model in which you can easily model overlapping structures, discontinuous elements, and nonlinear text without having to resort to workarounds. "
   ]
  },
  {
   "cell_type": "markdown",
   "metadata": {},
   "source": [
    "## 2. Okay, tell me more..."
   ]
  },
  {
   "cell_type": "markdown",
   "metadata": {},
   "source": [
    "### What you need to know\n",
    "\n",
    "#### Perspectives, layers and views.\n",
    "\n",
    "Structuring information has both a conceptual and technical side. The conceptual side concerns the theory, the analysis, or the research objective that forms the motivation for the markup. The technical side, then, refers to the specific markup tags you use to express that concept or theory. \n",
    "\n",
    "Let's first get our definitions straight. We've mentioned that reseachers have different perspectives on a text. These have also been described as \"orientations to text\" and include (but are definitely not limited to) a material, linguistic, or genetic perspective. \n",
    "\n",
    "A perspective implies a certain structure of text. For example, if you're interested in the material aspects of a text, you may structure it as _page > section > paragraph > sentence_, which says something like: a page has one or more sections, which have one or more paragraphs, which have one or more sentences. If you'd rather study the linguistic aspects, you may follow the structure _phrase > sentence > word > morpheme_. You can consider this as adding layers of information to a text. \n",
    "\n",
    "**Layers** are a crucial concept in _Alexandria_. Briefly put, a layer classifies a set of markup elements. The elements may be grouped because, together, they represent a specific research perspective, or because they are added by a specific user. A layer is hierarchically structured, and a document may contain multiple layers. Markup elements can be in more than one layer. For example: the material structure and the linguistic structure outlined above could form a material layer and a linguistic layer, with the element _sentence_ being part of both layers. \n",
    "\n",
    "A **view** in _Alexandria_ is defined as a selection of markup tags and layers. You, the user, can define your own view(s) by indicating which markup elements or which markup layer(s) you do and don't want to see. The difference between layers and views may be confusing at first: if you create a view called \"linguistic\" that shows only the \"linguistic\" layer, they are synonymous. But you can also define a linguistic view by selecting a number of markup elements from the linguistic layer, combined with some other elements. It's up to you. The main objective of views is to increase the readability of a large file with lots of markup. "
   ]
  },
  {
   "cell_type": "markdown",
   "metadata": {},
   "source": [
    "### Workflow\n",
    "\n",
    "Take a look at the following workflow."
   ]
  },
  {
   "cell_type": "markdown",
   "metadata": {},
   "source": [
    "<img src=\"images/workflow-alexandria.png\"/>"
   ]
  },
  {
   "cell_type": "markdown",
   "metadata": {
    "slideshow": {
     "slide_type": "slide"
    }
   },
   "source": [
    "In the upper row, you see several user actions, from creating a transcription to defining a view.  \n",
    "\n",
    "The second row contains the commands associated with these user actions (\"`alexandria register document`\", \"`alexandria define view`\", etc); the third row a visual representation of what these actions produce (a document is created, a view is defined, etc).  \n",
    "\n",
    "The last row symbolises the local repository that you create on your machine when you work with Alexandria. The repo contains all your transcriptions (document instances) and views.  \n",
    "\n",
    "If you've worked with [git](https://www.atlassian.com/git/tutorials) or [GitHub](https://github.com/), this workflow may seem familiar to you: there's a similar process of initialising a workspace, uploading files, and checking out files. In contrast to git, though, the Alexandria workflow doesn't have a remote repository yet. You work on your local machine, so make sure to save your files appropriately. "
   ]
  },
  {
   "cell_type": "markdown",
   "metadata": {},
   "source": [
    "### Markup language\n",
    "\n",
    "We've developed a markup language called TAGML that allows you to express these and other textual features in a native way. So, if you want to make optimal use of TAG's graph data model for text and the layer-functionality of _Alexandria_, you can transcribe your text in TAGML.\n",
    "\n",
    "#### Models\n",
    "A markup language is basically a serialisation of a model. In other words, this XML sentence `<root><s>The sun's not yellow</s></root>` is a serialisation of the OHCO model behind it: "
   ]
  },
  {
   "cell_type": "markdown",
   "metadata": {},
   "source": [
    "<img src=\"images/ohco-sun.png\" width=\"300\" heigth=\"300\">"
   ]
  },
  {
   "cell_type": "markdown",
   "metadata": {},
   "source": [
    "So the two tags `<s>` and `</s>` together represent one `s` node in the OHCO tree.  \n",
    "\n",
    "Perhaps we'd like to indicate with markup that the word `sun's` is actually a contraction of the words `sun` and `is`, for example by tagging them with `expan`. As we create a new element node and push down two text nodes one level, we rearrange the document hierarchy: "
   ]
  },
  {
   "cell_type": "markdown",
   "metadata": {},
   "source": [
    "<img src=\"images/ohco-sun2.png\" width=\"400\" heigth=\"400\">"
   ]
  },
  {
   "cell_type": "markdown",
   "metadata": {},
   "source": [
    "This may be basic knowledge to you, but when you are encoding a text it helps to think about the underlying model. TAG's graph model requires a new markup language with which you can tag complex textual occurrences: different coexisting structures, discontinuous elements, etc. \n",
    "\n",
    "There's at least three important points on which TAGML diverges from XML: \n",
    "\n",
    "- it has asymmetrical tags: `[markup> some text <markup]`. \n",
    "- you can use it to express not just strings and markup, but other data types as well, like numbers or boolean values\n",
    "- you can nest annotations.\n",
    "\n",
    "You find detailed information about the TAGML syntax in its [documentation](https://github.com/HuygensING/TAG/tree/master/TAGML) and in a Balisage article on the [topic](http://www.balisage.net/Proceedings/vol21/html/HaentjensDekker01/BalisageVol21-HaentjensDekker01.html#d7633e16).\n",
    "\n",
    "#### Syntax highlighter\n",
    "\n",
    "To facilitate transcribing in TAGML, we developed a syntax highlighter for Sublime Text Editor. You find a link to a download page with additional information about how to install it [here](https://github.com/HuygensING/TAG/blob/develop/TAGML/syntax-hilite.README.md).\n",
    "\n",
    "#### Layers\n",
    "\n",
    "In TAGML you can easily indicate to which layer(s) a markup element belongs. \n",
    "\n",
    "Let's return to the example phrase _The sun's not yellow_, now expressed in TAGML :\n",
    "\n",
    "     [root>\n",
    "        [s> The sun's not yellow <s]\n",
    "     <root]\n",
    "\n",
    "You can tag the expansion of `sun's` using similar markup as in XML:\n",
    "\n",
    "    [root>\n",
    "        [s> The [expan>sun is<expan] not yellow <s]\n",
    "    <root]\n",
    "\n",
    "Let's say you also want to add some linguistic information about the negation construction `is not`:\n",
    "    \n",
    "    [root>\n",
    "        [s> The [expan>sun [phr>is<expan] not<phr] yellow <s]\n",
    "    <root]\n",
    "\n",
    "However, this results in two overlapping elements `expan` and `phr`. To avoid this overlap, you create two layers. You give each layer a unique layer ID: \"L1\" for the annotation about the expansion; \"L2\" for the linguistic annotation. You start a new layer with the `+` sign; markup elements can be in more than one layer:\n",
    "\n",
    "    [root|+L1, +L2>\n",
    "        [s|L1,L2> The [expan|L1>sun [phr|L2>is<expan] not<phr] yellow<s]\n",
    "     <root]\n",
    "\n",
    "Because each layer is hierarchically ordered, you have now created two trees that share some markup and text nodes: \n",
    "\n",
    "<img src=\"images/demo.png\" width=\"400\" heigth=\"400\">\n",
    "\n",
    "Here, the L1 tree is visualised in red and the L2 tree in blue. You can see that the word `is` has two parents: the markup node `expan` and the markup node `phr`. There's no longer question of conflicting overlapping elements.\n",
    "\n",
    "If you want, you can now define two views on this TAGML document: one view that shows only the L1 layer and one view that shows only the L2 layer.\n",
    "\n",
    "This is a very basic example; it may be clear that when you actually start transcribing a text in TAGML, the amount of tags and layers in a document grows exponentially which will interfere with the human-legibility. All the more reason for having views!  "
   ]
  },
  {
   "cell_type": "markdown",
   "metadata": {},
   "source": [
    "## 3. I want to use it!\n",
    "\n",
    "Great! Let's get to work.\n",
    "\n",
    "#### Command line\n",
    "\n",
    "Alexandria is a command line tool. In practice this means that it doesn't have an interface: you run Alexandria from your command line (sometimes also called the shell, the terminal, or the command prompt) and interact with it by typing out instructions in words and then hitting the Enter key. Not just any instructions, of course: the command line is very particular about how and what you tell it. \n",
    "\n",
    "If you've never worked with the command line before, you may want to take a look at this [tutorial](https://learncodethehardway.org/unix/).\n",
    "\n",
    "#### Download and install\n",
    "\n",
    "You can dowload an up-to-date version of Alexandria [here](https://cdn.huygens.knaw.nl/alexandria/alexandria-app.zip). \n",
    "\n",
    "This download installs a zip file called `alexandria-app`; unpack it in a directory of your choice. \n",
    "\n",
    "The folder contains three subfolders: a `lib` folder with the fat jar, a `bin` folder with the alexandria scripts for linux and windows, and an `example` folder. You can ignore the first two folders, but the `example` folder comes in handy if you want some templates for the views.\n",
    "\n",
    "Now that you've downloaded Alexandria, you can start it from anywhere on your machine. \n",
    "\n",
    "Keep in mind, though, the importance of a good \"filesystem hygiene\". In short: create a relevant folder in a place that you can easily reach and make sure the folder is [properly named](http://nbviewer.jupyter.org/github/DiXiT-eu/collatex-tutorial/blob/master/unit1/Command_line.ipynb#File-naming-conventions). We advise you to create a separate folder for Alexandria, named something like `alexandria-test`. You can create it anywhere you like, but an appropriate place is your Home directory. Within the `alexandria-text` folder, you can create a subfolder `transcriptions` to store your own transcriptions and a subfolder `views` to store any views you're going to define. If you subsequently initialise Alexandria from the `alexandria-test` directory, you are sure to have all your files in one place and easy to reach.\n",
    "\n",
    "Once you feel confident about the command line and have installed Alexandria, you can start by creating a transcription."
   ]
  },
  {
   "cell_type": "markdown",
   "metadata": {},
   "source": [
    "### Create a transcription\n",
    "\n",
    "For the purpose of testing, we have created a number of simple TAGML files. The transcriptions are all based on the first two paragraphs of one typescript page (CRLR_GR_MS1H16d_1r) of Gustave Roud's _Requiem_ (courtesy of the [Centre de recherches sur les lettres romandes](https://www.unil.ch/crlr/home/menuinst/projets-de-recherche/gustave-roud-oeuvres-completes.html), Université de Lausanne). \n",
    "\n",
    "Navigate to the `alexandria-test` folder on your local machine and create a new subfolder called `transcriptions`. You can download the [example TAGML files](https://github.com/HuygensING/alexandria-markup-server/tree/tutorial/transcriptions) into the `transcriptions` folder.\n",
    "\n",
    "The transcriptions folder contains the following files:\n",
    "\n",
    "- roud_ts_1.tagml\n",
    "- roud_ts_2.tagml\n",
    "\n",
    "Take a close look at the file \"roud_ts_1.tagml\" to see if you understand the tagging and the model. It is a transcription of the first two paragraphs on the page. The structure of the text is _excerpt > paragraphs > sentences_. There are no layers. \n",
    "\n",
    "Now take a look at \"roud_ts_2.tagml\". This transcription follows the same structure, but here we also tagged the deletions and additions. A deletion followed by an addition results in a [nonlinear structure](http://www.balisage.net/Proceedings/vol21/html/HaentjensDekker01/BalisageVol21-HaentjensDekker01.html#order_of_textual_content) which TAGML represents with [branches](http://www.balisage.net/Proceedings/vol21/html/HaentjensDekker01/BalisageVol21-HaentjensDekker01.html#syntax_nonlinearity). Make sure you understand how this works. "
   ]
  },
  {
   "cell_type": "markdown",
   "metadata": {},
   "source": [
    "### Initialise _Alexandria_\n",
    "\n",
    "If you haven't done so already, navigate to your `alexandria-test/transcriptions` directory on the command line: \n",
    "\n",
    "    $ cd alexandria-text/transcriptions\n",
    "\n",
    "Prepare the directory for usage by initialising _Alexandria_:\n",
    "\n",
    "    $ alexandria init\n",
    "\n",
    "You're all set!"
   ]
  },
  {
   "cell_type": "markdown",
   "metadata": {},
   "source": [
    "##### Interacting with _Alexandria_ \n",
    "\n",
    "Keep in mind that every command you give to _Alexandria_ starts with `alexandria` and is followed by what you want _Alexandria_ to do: register a new document, export a png file, define a new view, etc.\n",
    "\n",
    "Each command is follwed by one or two parameters. With the parameters you specify the transcription file (`-f`) or the name (`-n`) of the document (`-d`). The order of the parameters is insignificant."
   ]
  },
  {
   "cell_type": "markdown",
   "metadata": {},
   "source": [
    "### Register a document in _Alexandria_\n",
    "\n",
    "The next step is to register \"roud-ts-1\" as a document in the _Alexandria_ repository you just started on your machine. To make it easy for yourself, choose a convenient name for the document in line with the [naming conventions](http://nbviewer.jupyter.org/github/DiXiT-eu/collatex-tutorial/blob/master/unit1/Command_line.ipynb#File-naming-conventions).\n",
    "\n",
    "    $ alexandria register-document -n roud1 -f roud_ts_test1.tagml\n",
    "\n",
    "You have now registered the TAGML file `roud_ts_test1.tagml` under the name of `roud1`.\n",
    "Let's repeat that for the second transcription:\n",
    "\n",
    "    $ alexandria register-document -n roud2 -f roud_ts_test2.tagml\n",
    "\n",
    "You have now registered the TAGML file `roud_ts_test2.tagml` under the name of `roud2`.\n",
    "\n",
    "At all times, you can check which documents and views are registered in _Alexandria_:\n",
    "    \n",
    "    $ alexandria info\n",
    "    \n",
    "_Alexandria_ will inform you about it's version and that you have two registered documents: \"roud1\" and \"roud2\" respectively:"
   ]
  },
  {
   "cell_type": "markdown",
   "metadata": {},
   "source": [
    "```\n",
    "alexandria version 2.1-SNAPSHOT\n",
    "build date: 2018-11-01T21:38:13Z\n",
    "\n",
    "documents:\n",
    "  roud1 (created:Wed Nov 14 10:40:00 CET 2018, modified:Wed Nov 14 10:40:01 CET 2018)\n",
    "  roud2 (created:Wed Nov 14 10:40:22 CET 2018, modified:Wed Nov 14 10:40:22 CET 2018)\n",
    "\n",
    "no views\n",
    "```\n"
   ]
  },
  {
   "cell_type": "markdown",
   "metadata": {},
   "source": [
    "You have now completed the third step of the workflow (see the diagram above) and succesfully checked in two documents. These are rather simple documents, with just one structure. Let's play around with TAGML's ability to express more than one structure by using the layer-functionality."
   ]
  },
  {
   "attachments": {},
   "cell_type": "markdown",
   "metadata": {},
   "source": [
    "### Add layers\n",
    "\n",
    "A classic example of overlapping structures in markup is the material perspective versus the textual perspective. \n",
    "\n",
    "Open the file \"roud_ts_test1.tagml\" again and take a look at the typescript facsimile below.\n",
    "<img src=\"images/CRLR_GR_MS1H16d_1r_1.png\" width=\"400\" heigth=\"400\">\n",
    "\n",
    "The TAGML file contains tags that represent the textual structure (_p > s_); we are going to add tags to represent the material structure (_page > line_). To avoid the conflicting overlap between elements, we create two layers. We'll give the layer with the textual markup the layer id \"T\" and the layer with the material information the layer id \"M\". In principle, you're free in your choice of layer id, but it's best to make it short, logical and coherent. \n",
    "\n",
    "You can start a layer anywhere in the TAGML file, but for now we create a new element called `layerdef` directly under the root `TAGML`, in which we define the two layers \"T\" and \"M\":\n",
    "\n",
    "```\n",
    "[TAGML>\n",
    "[layerdef|+M,+T>\n",
    "[! some text here !]\n",
    "<layerdef]\n",
    "<TAGML]\n",
    "```\n",
    "\n",
    "Keep in mind that a markup element in the text can be in either one layer, in both, or in none. For more information about the layers and the TAGML syntax, see the [documentation](http://www.balisage.net/Proceedings/vol21/html/HaentjensDekker01/BalisageVol21-HaentjensDekker01.html#overlapping_selfoverlapping_markup). The result of your tagging should look like the file \"roud_ts_test3.tagml\" in the `/transcriptions` directory.\n",
    "\n",
    "Once you're done transcribing, register the document in _Alexandria_:\n",
    "\n",
    "    $ alexandria register-document -n roud3 -f transcriptions/roud_ts_test3.tagml\n",
    "\n",
    "As a test, run `alexandria info` again. You now have three registered documents and no views."
   ]
  },
  {
   "cell_type": "markdown",
   "metadata": {},
   "source": [
    "### Define views on the text\n",
    "\n",
    "We use the file \"roud_ts_test3.tagml\" as a starting point for the view definition. Conceptually, views are selection of layers or markup elements. You identify the markup and layers you want to include in the view in JSON. \n",
    "\n",
    "#### Markup\n",
    "\n",
    "First, we create a view that includes only the markup element `s`.\n",
    "\n",
    "In your Sublime Text editor (or another editor of your choice), open a JSON file and enter the following code:\n",
    "\n",
    "```json\n",
    "{\"includeMarkup\": [\"s\"]}\n",
    "```\n",
    "\n",
    "Save the file as \"view-s-markup.json\" in a new subfolder of the `alexandria` directory called `views`. \n",
    "\n",
    "Open a new JSON file to create another view that includes the markup elements `page` and `line`:\n",
    "\n",
    "```json\n",
    "{\"includeMarkup\": [\"page\", \"line\"]}\n",
    "```\n",
    "\n",
    "Safe the JSON file as \"view-page-line-markup.json\" in the `views` directory."
   ]
  },
  {
   "cell_type": "markdown",
   "metadata": {},
   "source": [
    "#### Layers\n",
    "\n",
    "Let's create another view, that includes all markup with the layer ID \"T\".\n",
    "\n",
    "Open a new JSON file and enter the following:\n",
    "\n",
    "```json\n",
    "{\"includeLayer\":[\"T\"]}\n",
    "```\n",
    "\n",
    "Save the file as \"view-layer-T.json\" in the `views` directory.\n",
    "\n",
    "Repeat for the layer ID \"M\"."
   ]
  },
  {
   "cell_type": "markdown",
   "metadata": {},
   "source": [
    "#### Layers and Markup\n",
    "\n",
    "You can also define views that includes a layer and excludes markup:\n",
    "\n",
    "```json\n",
    "{\"includeLayer\":[\"M\"]}\n",
    "{\"excludeMarkup\":[\"excerpt\", \"p\"]}\n",
    "```\n",
    "\n",
    "Save this file as \"view-incl-excl.json\" in the `/views` directory.\n",
    "\n",
    "You can define as many views on a document as you want."
   ]
  },
  {
   "cell_type": "markdown",
   "metadata": {},
   "source": [
    "### Register views in _Alexandria_\n",
    "\n",
    "Let's upload the view files we just created into _Alexandria_:\n",
    "\n",
    "    $ alexandria define-view -n s-markup -f ../views/views-s-markup.json\n",
    "\n",
    "You have now registered a view that can later be referred to by the name `s-markup`.\n",
    "\n",
    "Repeat this step for the other views. Check with `alexandria info` if everything works.\n",
    "\n",
    "    $ alexandria info"
   ]
  },
  {
   "cell_type": "markdown",
   "metadata": {},
   "source": [
    "### Checkout a view\n",
    "\n",
    "You can use the views you have just defined to checkout a document:\n",
    "\n",
    "    $ alexandria checkout -d roud3 -v s-markup\n",
    "\n",
    "This generates a TAGML file from document \"roud3\" containing only text and `s` markup. The generated file is called \"roud3-s-markup.tagml\" and placed in the folder where you've initialised _Alexandria_ (most probably the `transcriptions` folder). Open the TAGML file in your Sublime Text editor.\n",
    "\n",
    "You can repeat this step for the other views registered in _Alexandria_. "
   ]
  },
  {
   "cell_type": "markdown",
   "metadata": {},
   "source": [
    "### Edit generated views\n",
    "\n",
    "If you want, you can edit the file \"roud3-s-markup.tagml\". You can add some new markup or text. \n",
    "\n",
    "With the command  \n",
    "\n",
    "    $ alexandria diff roud3-s-markup.tagml\n",
    "\n",
    "you can see the changes that you made to this file. If you don't like the changes, you can revert them:\n",
    "\n",
    "    $ alexandria revert roud3-s-markup.tagml\n",
    "    \n",
    "Otherwise, you can commit the changed file to _Alexandria_:\n",
    "\n",
    "    $ alexandria register-document -n roud3-s-markup -f transcriptions/roud3-s-markup.tagml\n",
    "        \n",
    "       "
   ]
  },
  {
   "cell_type": "markdown",
   "metadata": {},
   "source": [
    "### Export different data formats\n",
    "\n",
    "You can also export your TAGML file to different data formats:\n",
    "\n",
    "- svg\n",
    "- png\n",
    "- dot\n",
    "- xml\n",
    "- tagml\n",
    "\n",
    "The command is `alexandria export-` followed by the format and the name of the document you want to export:\n",
    "\n",
    "    $ alexandria export-xml -d roud1 \n",
    "\n",
    "This generates an XML file of the \"roud-ts-test1.tagml\" file. \n",
    "\n",
    "Note that the DOT, SVG, and PNG export generate a MultiColored Tree which, especially in the case of a file with large amounts of markup and text, can be rather demanding for human readers.\n"
   ]
  },
  {
   "cell_type": "markdown",
   "metadata": {},
   "source": [
    "### Overview of commands"
   ]
  },
  {
   "cell_type": "markdown",
   "metadata": {},
   "source": [
    "    alexandria init\n",
    "    \n",
    "    alexandria register-document -d <name doc> -f <path to TAGML file>\n",
    "    \n",
    "    alexandria info\n",
    "    \n",
    "    alexandria define-view -n <name view> -f <path to JSON file>\n",
    "    \n",
    "    alexandria checkout -d <name doc> -v <name view>\n",
    "    \n",
    "    alexandria diff <name file>\n",
    "    \n",
    "    alexandria revert <name file>\n",
    "    \n",
    "    alexandria export-<format> -d <name doc>\n",
    "    \n",
    "    alexandria import -d <name doc> -f <name file>\n",
    "    \n",
    "    alexandria -h"
   ]
  },
  {
   "cell_type": "code",
   "execution_count": null,
   "metadata": {},
   "outputs": [],
   "source": []
  }
 ],
 "metadata": {
  "kernelspec": {
   "display_name": "Python 3",
   "language": "python",
   "name": "python3"
  },
  "language_info": {
   "codemirror_mode": {
    "name": "ipython",
    "version": 3
   },
   "file_extension": ".py",
   "mimetype": "text/x-python",
   "name": "python",
   "nbconvert_exporter": "python",
   "pygments_lexer": "ipython3",
   "version": "3.6.5"
  }
 },
 "nbformat": 4,
 "nbformat_minor": 2
}
