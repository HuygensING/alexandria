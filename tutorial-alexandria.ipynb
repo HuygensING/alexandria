{
 "cells": [
  {
   "cell_type": "markdown",
   "metadata": {},
   "source": [
    "# Alexandria"
   ]
  },
  {
   "cell_type": "markdown",
   "metadata": {},
   "source": [
    "## 1. What is it?"
   ]
  },
  {
   "cell_type": "markdown",
   "metadata": {},
   "source": [
    "### Introduction\n",
    "\n",
    "Briefly put, _Alexandria_ is a text repository system. It is the reference implementation of TAG (Text-as-Graph), a flexible graph data model for text. Here, the term \"reference implementation\" means that _Alexandria_ implements all the properties of the TAG model. So, by working with _Alexandria_ you'll learn more about TAG. And vice versa, if you want to experiment with the flexibilities of the TAG model _Alexandria_ is where you start. \n",
    "\n",
    "You'll quickly find out that _Alexandria_ is not just any text repository. It builds on the idea that a text can be studied from various perspectives. For example, you can model a text according to a textual perspective or a documentary perspective; you can focus on adding linguistic annotations of a text, or rather information about structure of its verses. In _Alexandria_, you can store those different perspectives on the same text. What is more, _Alexandria_ is build along the principles of a distributed architecture. It is a command line tool and it can be integrated in your own editor of choice.\n",
    "\n",
    "By bringing together a wide range of information about a text in a structural and distributed way, _Alexandria_ facilitates the exchange and reuse of scholarly data. In short, _Alexandria_ is a powerful modeling instrument for digital textual research."
   ]
  },
  {
   "cell_type": "markdown",
   "metadata": {},
   "source": [
    "### Can I use it?\n",
    "\n",
    "Yes, you can. Below we explain in detail how _Alexandria_ works and what you need to oprate it. Keep in mind that both the TAG data model and the _Alexandria_ implementation are under development. This means that by using _Alexandria_ you will make a valuable contribution to the development process. We therefore encourage you to try it out and share your thoughts. "
   ]
  },
  {
   "cell_type": "markdown",
   "metadata": {},
   "source": [
    "### Why should I use it?\n",
    "\n",
    "If you enjoy experimenting with data models and advanced text analysis, _Alexandria_ is the tool for you. If you're used to working with XML, it is highly enlightening to work with a data model in which you can easily model overlapping structures, discontinuous elements, and nonlinear text without having to resort to workarounds. Furthermore, we have designed a workflow for _Alexandria_ that facilitates the collaborative editing of texts without imposing on you a particular interface or transcription environment.  "
   ]
  },
  {
   "cell_type": "markdown",
   "metadata": {},
   "source": [
    "## 2. Okay, tell me more..."
   ]
  },
  {
   "cell_type": "markdown",
   "metadata": {},
   "source": [
    "### What you need to know\n",
    "\n",
    "#### Perspectives, layers and views.\n",
    "\n",
    "Let's first get our definitions straight. We've mentioned that reseachers have different perspectives on a text. These have also been described as \"orientations to text\" and include (but are definitely not limited to) a material, linguistic, or genetic perspective. \n",
    "\n",
    "A perspective implies a certain structure of text. For example, if you're interested in the material aspects of a text, you may structure it as follows `page > section > paragraph > sentence`. If you'd rather study the linguistic aspects, you may follow the structure `phrase > sentence > word > morpheme`. When you annotate a text by adding markup, you (re)structure it. \n",
    "\n",
    "Structuring information has both a conceptual and technical side. The conceptual side concerns the theory, analysis, or research objective that forms the motivation for the markup. The technical side, then, refers to the specific markup tags you use to express that concept or theory. \n",
    "\n",
    "**Layers** are a crucial concept in _Alexandria_. Briefly put, a layer classifies a set of markup elements. The elements may be grouped because together they represent a specific research perspective, or because they are added by a specific user. A layer is hierarchically structured, and a document may contain multiple layers. Markup elements can be in more than one layer. The material structure and the linguistic structure exemplified above would translate to a material layer and a linguistic layer, with the element `sentence` being part of both layers. \n",
    "\n",
    "A **view** in _Alexandria_ is defined as a selection of markup tags. You, the user, can define your own view(s) by indicating which markup elements or which markup layer you do and don't want to see. The main objective of views is to increase the readability of a large file with lots of markup. We'll explain \"views\" in more detail below. "
   ]
  },
  {
   "cell_type": "markdown",
   "metadata": {},
   "source": [
    "### Workflow"
   ]
  },
  {
   "cell_type": "markdown",
   "metadata": {},
   "source": [
    "### Download or install"
   ]
  },
  {
   "cell_type": "markdown",
   "metadata": {},
   "source": [
    "## 3. I want to use it!"
   ]
  },
  {
   "cell_type": "markdown",
   "metadata": {},
   "source": [
    "### Create a transcription"
   ]
  },
  {
   "cell_type": "markdown",
   "metadata": {},
   "source": [
    "### Add layers to your transcription"
   ]
  },
  {
   "cell_type": "markdown",
   "metadata": {},
   "source": [
    "### Define views on the text"
   ]
  },
  {
   "cell_type": "markdown",
   "metadata": {},
   "source": [
    "### Checkout a view"
   ]
  },
  {
   "cell_type": "markdown",
   "metadata": {},
   "source": [
    "### Export different data formats"
   ]
  },
  {
   "cell_type": "markdown",
   "metadata": {},
   "source": [
    "## 4. I want to read more about it!"
   ]
  },
  {
   "cell_type": "code",
   "execution_count": null,
   "metadata": {},
   "outputs": [],
   "source": []
  }
 ],
 "metadata": {
  "kernelspec": {
   "display_name": "Python 3",
   "language": "python",
   "name": "python3"
  },
  "language_info": {
   "codemirror_mode": {
    "name": "ipython",
    "version": 3
   },
   "file_extension": ".py",
   "mimetype": "text/x-python",
   "name": "python",
   "nbconvert_exporter": "python",
   "pygments_lexer": "ipython3",
   "version": "3.6.5"
  }
 },
 "nbformat": 4,
 "nbformat_minor": 2
}
