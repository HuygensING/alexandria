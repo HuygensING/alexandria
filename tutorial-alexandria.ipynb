{
 "cells": [
  {
   "cell_type": "markdown",
   "metadata": {},
   "source": [
    "# Alexandria, a manual."
   ]
  },
  {
   "cell_type": "markdown",
   "metadata": {},
   "source": [
    "This is a detailed, step-by-step guide to using _Alexandria_ for digital text editing."
   ]
  },
  {
   "cell_type": "markdown",
   "metadata": {},
   "source": [
    "## 1. What is _Alexandria_?"
   ]
  },
  {
   "cell_type": "markdown",
   "metadata": {},
   "source": [
    "### Introduction\n",
    "\n",
    "Brielfy put, _Alexandria_ is a text repository system. It is the reference implementation of TAG (Text-as-Graph), a flexible graph data model for text. Here, the term \"reference implementation\" means that _Alexandria_ implements all the properties of the TAG model. So, by working with _Alexandria_ you'll learn more about TAG. And vice versa, if you want to experiment with the flexibilities of the TAG model _Alexandria_ is where you start. \n",
    "\n",
    "You'll quickly find out that _Alexandria_ is not just any text repository. It builds on the idea that a text can be studied from various perspectives. For example, you can model a text according to a textual perspective or a documentary perspective; you can focus on adding linguistic annotations of a text, or rather information about structure of its verses. In _Alexandria_, you can store those different perspectives on the same text. What is more, _Alexandria_ is build along the principles of a distributed architecture. It is a command line tool and it can be integrated in your own editor of choice.\n",
    "\n",
    "By bringing together a wide range of information about a text in a structural and distributed way, _Alexandria_ facilitates the exchange and reuse of scholarly data. In short, _Alexandria_ is a powerful modeling instrument for digital textual research."
   ]
  },
  {
   "cell_type": "markdown",
   "metadata": {},
   "source": [
    "### Can I use it?\n",
    "\n",
    "Yes, you can. Below we explain in detail how _Alexandria_ works and what you need to oprate it. Keep in mind that both the TAG data model and the _Alexandria_ implementation are under development. This means that by using _Alexandria_ you will make a valuable contribution to the development process. We therefore encourage you to try it out and share your thoughts. "
   ]
  },
  {
   "cell_type": "markdown",
   "metadata": {},
   "source": [
    "### Why should I use it?\n",
    "\n",
    "If you enjoy experimenting with data models and advanced text analysis, _Alexandria_ is the tool for you. If you're used to working with XML, it is highly enlightening to work with a data model in which you can easily model overlapping structures, discontinuous elements, and nonlinear text without having to resort to workarounds. To this end, we've developed a markup language called TAGML that allows you to express these and other textual features in a native way.\n",
    "\n",
    "Furthermore, we have designed a workflow for _Alexandria_ that facilitates the collaborative editing of texts without imposing on you a particular interface or transcription environment.  "
   ]
  },
  {
   "cell_type": "markdown",
   "metadata": {},
   "source": [
    "## 2. Okay, tell me more..."
   ]
  },
  {
   "cell_type": "markdown",
   "metadata": {},
   "source": [
    "### What you need to know\n",
    "\n",
    "#### Perspectives, layers and views.\n",
    "\n",
    "Structuring information has both a conceptual and technical side. The conceptual side concerns the theory, the analysis, or the research objective that forms the motivation for the markup. The technical side, then, refers to the specific markup tags you use to express that concept or theory. \n",
    "\n",
    "Let's first get our definitions straight. We've mentioned that reseachers have different perspectives on a text. These have also been described as \"orientations to text\" and include (but are definitely not limited to) a material, linguistic, or genetic perspective. \n",
    "\n",
    "A perspective implies a certain structure of text. For example, if you're interested in the material aspects of a text, you may structure it as _page > section > paragraph > sentence_, which says something like: a page has one or more sections, which have one or more paragraphs, which have one or more sentences. If you'd rather study the linguistic aspects, you may follow the structure _phrase > sentence > word > morpheme_. You can consider this as adding layers of information to a text. \n",
    "\n",
    "**Layers** are a crucial concept in _Alexandria_. Briefly put, a layer classifies a set of markup elements. The elements may be grouped because, together, they represent a specific research perspective, or because they are added by a specific user. A layer is hierarchically structured, and a document may contain multiple layers. Markup elements can be in more than one layer. For example: the material structure and the linguistic structure outlined above could form a material layer and a linguistic layer, with the element _sentence_ being part of both layers. \n",
    "\n",
    "A **view** in _Alexandria_ is defined as a selection of markup tags and layers. You, the user, can define your own view(s) by indicating which markup elements or which markup layer(s) you do and don't want to see. The difference between layers and views may be confusing at first: if you create a view called \"linguistic\" that shows only the \"linguistic\" layer, they are synonymous. But you can also define a linguistic view by selecting a number of markup elements from the linguistic layer, combined with some other elements. It's up to you. The main objective of views is to increase the readability of a large file with lots of markup. "
   ]
  },
  {
   "cell_type": "markdown",
   "metadata": {},
   "source": [
    "### Workflow\n",
    "\n",
    "Take a look at the following workflow."
   ]
  },
  {
   "cell_type": "markdown",
   "metadata": {},
   "source": [
    "<img src=\"images/workflow-alexandria.png\"/>"
   ]
  },
  {
   "cell_type": "markdown",
   "metadata": {
    "slideshow": {
     "slide_type": "slide"
    }
   },
   "source": [
    "In the upper row, you see several user actions, from creating a transcription to defining a view.  \n",
    "\n",
    "The second row contains the commands associated with these user actions (\"`alexandria register document`\", \"`alexandria define view`\", etc); the third row a visual representation of what these actions produce (a document is created, a view is defined, etc).  \n",
    "\n",
    "The last row symbolises the local repository that you create on your machine when you work with Alexandria. The repo contains all your transcriptions (document instances) and views.  \n",
    "\n",
    "If you've worked with [git](https://www.atlassian.com/git/tutorials) or [GitHub](https://github.com/), this workflow may seem familiar to you: there's a similar process of initialising a workspace, uploading files, and checking out files. In contrast to git, though, the Alexandria workflow doesn't have a remote repository yet. You work on your local machine, so make sure to save your files appropriately. "
   ]
  },
  {
   "cell_type": "markdown",
   "metadata": {},
   "source": [
    "### Markup language\n",
    "\n",
    "If you want to make optimal use of TAG's graph data model for text and the layer-functionality of _Alexandria_, you can transcribe your text in TAGML.\n",
    "\n",
    "#### Models\n",
    "A markup language is basically a serialisation of a model. In other words, this XML sentence `<root><s>The sun's not yellow</s></root>` is a serialisation of the OHCO model behind it: "
   ]
  },
  {
   "cell_type": "markdown",
   "metadata": {},
   "source": [
    "<img src=\"images/ohco-sun.png\" width=\"300\" heigth=\"300\">"
   ]
  },
  {
   "cell_type": "markdown",
   "metadata": {},
   "source": [
    "So the two tags `<s>` and `</s>` together represent one `s` node in the OHCO tree.  \n",
    "\n",
    "Perhaps we'd like to indicate with markup that the word `sun's` is actually a contraction of the words `sun` and `is`, for example by tagging them with `expan`. This means we create two new text nodes and a new element node, and rearrange the document hierarchy: "
   ]
  },
  {
   "cell_type": "markdown",
   "metadata": {},
   "source": [
    "<img src=\"images/ohco-sun2.png\" width=\"400\" heigth=\"400\">"
   ]
  },
  {
   "cell_type": "markdown",
   "metadata": {},
   "source": [
    "This may be basic knowledge to you, but when you are encoding a text it helps to think about the underlying model. TAG's graph model requires a new markup language with which you can tag complex textual occurrences: different coexisting structures, discontinuous elements, etc. There's at least three important points on which TAGML diverges from XML: \n",
    "\n",
    "- it has asymmetrical tags: `[markup> some text <markup]`. \n",
    "- you can use it to express not just strings and markup, but other data types as well, like numbers or boolean values\n",
    "- you can nest annotations.\n",
    "\n",
    "You find detailed information about the TAGML syntax in its [documentation](https://github.com/HuygensING/TAG/tree/master/TAGML) and in a Balisage article on the [topic](http://www.balisage.net/Proceedings/vol21/html/HaentjensDekker01/BalisageVol21-HaentjensDekker01.html#d7633e16).\n",
    "\n",
    "#### Syntax highlighter\n",
    "\n",
    "To facilitate transcribing in TAGML, we developed a syntax highlighter for Sublime Text Editor. You find a link to a download page with additional information about how to install it [here](https://github.com/HuygensING/TAG/blob/develop/TAGML/syntax-hilite.README.md).\n",
    "\n",
    "#### Layers\n",
    "\n",
    "In TAGML you can easily indicate to which layer(s) a markup element belongs. \n",
    "\n",
    "Let's return to the example phrase _The sun's not yellow_, now expressed in TAGML :\n",
    "\n",
    "     [root>\n",
    "        [s> The sun's not yellow <s]\n",
    "     <root]\n",
    "\n",
    "You can tag the expansion of `sun's` using similar markup as in XML:\n",
    "\n",
    "    [root>\n",
    "        [s> The [expan>sun is<expan] not yellow <s]\n",
    "    <root]\n",
    "\n",
    "Let's say you also want to add some linguistic information about the negation construction `is not`:\n",
    "    \n",
    "    [root>\n",
    "        [s> The [expan>sun [phr>is<expan] not<phr] yellow <s]\n",
    "    <root]\n",
    "\n",
    "However, this results in two overlapping elements `expan` and `phr`. To avoid this overlap, you create two layers. You give each layer a unique layer ID: \"L1\" for the annotation about the expansion; \"L2\" for the linguistic annotation. You start a new layer with the `+` sign; markup elements can be in more than one layer:\n",
    "\n",
    "    [root|+L1, +L2>\n",
    "        [s|L1,L2> The [expan|L1>sun [phr|L2>is<expan] not<phr] yellow<s]\n",
    "     <root]\n",
    "\n",
    "Because each layer is hierarchically ordered, you have now created two trees that share some markup and text nodes: \n",
    "\n",
    "<img src=\"images/demo.png\" width=\"400\" heigth=\"400\">\n",
    "\n",
    "Here, the L1 tree is visualised in red and the L2 tree in blue. You can see that the word `is` has two parents: the markup node `expan` and the markup node `phr`. There's no longer question of conflicting overlapping elements.\n",
    "\n",
    "If you want, you can now define two views on this TAGML document: one view that shows only the L1 layer and one view that shows only the L2 layer.\n",
    "\n",
    "This is a very basic example; it may be clear that when you actually start transcribing a text in TAGML, the amount of tags and layers in a document grows exponentially which will interfere with the human-legibility. All the more reason for having views!  "
   ]
  },
  {
   "cell_type": "markdown",
   "metadata": {},
   "source": [
    "## 3. I want to use it!\n",
    "\n",
    "Great! Let's get to work.\n",
    "\n",
    "#### Download and install\n",
    "\n",
    "You can dowload an up-to-date version of Alexandria [here](https://cdn.huygens.knaw.nl/alexandria/alexandria-app.zip). \n",
    "\n",
    "This download installs a zip file called `alexandria-app`; unpack it in a directory of your choice. \n",
    "\n",
    "The folder contains three subfolders: a `lib` folder with the fat jar, a `bin` folder with the alexandria scripts for linux and windows, and an `example` folder. You can ignore the first two folders, but the `example` folder comes in handy if you want some templates for the views.\n",
    "\n",
    "Now that you've downloaded Alexandria, you can start it from anywhere on your machine. \n",
    "\n",
    "Keep in mind, though, the importance of a good \"filesystem hygiene\". In short: create a relevant folder in a place that you can easily reach and make sure the folder is [properly named](http://nbviewer.jupyter.org/github/DiXiT-eu/collatex-tutorial/blob/master/unit1/Command_line.ipynb#File-naming-conventions). We advise you to create a separate folder for Alexandria, named something like `alexandria-test`. You can create it anywhere you like, but an appropriate place is your Home directory. Within the `alexandria-text` folder, you can create a subfolder `transcriptions` to store your own transcriptions and a subfolder `views` to store any views you're going to define. If you subsequently initialise Alexandria from the `alexandria-test` directory, you are sure to have all your files in one place and easy to reach.\n",
    "\n",
    "#### Command line\n",
    "Alexandria is a command line tool. In practice this means that it doesn't have an interface: you run Alexandria from your command line (sometimes also called the shell, the terminal, or the command prompt) and interact with it by typing out instructions in words and then hitting the Enter key. Not just any instructions, of course: the command line is very particular about how and what you tell it. \n",
    "\n",
    "If you've never worked with the command line before, you may want to take a look at this [tutorial](https://learncodethehardway.org/unix/).\n",
    "\n",
    "Once you feel confident about the command line and have installed Alexandria, you can start by creating a transcription."
   ]
  },
  {
   "cell_type": "markdown",
   "metadata": {},
   "source": [
    "### Create a transcription\n",
    "\n"
   ]
  },
  {
   "cell_type": "markdown",
   "metadata": {},
   "source": [
    "### Add layers to your transcription"
   ]
  },
  {
   "cell_type": "markdown",
   "metadata": {},
   "source": [
    "### Define views on the text"
   ]
  },
  {
   "cell_type": "markdown",
   "metadata": {},
   "source": [
    "### Checkout a view"
   ]
  },
  {
   "cell_type": "markdown",
   "metadata": {},
   "source": [
    "### Export different data formats"
   ]
  },
  {
   "cell_type": "markdown",
   "metadata": {},
   "source": [
    "## 4. I want to read more about it!"
   ]
  },
  {
   "cell_type": "code",
   "execution_count": null,
   "metadata": {},
   "outputs": [],
   "source": []
  }
 ],
 "metadata": {
  "kernelspec": {
   "display_name": "Python 3",
   "language": "python",
   "name": "python3"
  },
  "language_info": {
   "codemirror_mode": {
    "name": "ipython",
    "version": 3
   },
   "file_extension": ".py",
   "mimetype": "text/x-python",
   "name": "python",
   "nbconvert_exporter": "python",
   "pygments_lexer": "ipython3",
   "version": "3.6.5"
  }
 },
 "nbformat": 4,
 "nbformat_minor": 2
}
