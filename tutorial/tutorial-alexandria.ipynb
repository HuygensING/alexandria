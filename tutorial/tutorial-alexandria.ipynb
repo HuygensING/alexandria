{
 "cells": [
  {
   "cell_type": "markdown",
   "metadata": {},
   "source": [
    "# Alexandria, a manual."
   ]
  },
  {
   "cell_type": "markdown",
   "metadata": {},
   "source": [
    "### A detailed, step-by-step guide to using _Alexandria_ for digital text editing. "
   ]
  },
  {
   "cell_type": "markdown",
   "metadata": {},
   "source": [
    "## 1. What is _Alexandria_?"
   ]
  },
  {
   "cell_type": "markdown",
   "metadata": {},
   "source": [
    "### Introduction\n",
    "\n",
    "Briefly put, _Alexandria_ is a text repository system in which you can store and edit documents. It is the reference implementation of [TAG](https://github.com/HuygensING/TAG/tree/master/) (Text-as-Graph), a flexible graph data model for text. The term \"reference implementation\" means that _Alexandria_ implements all the properties of the TAG model. So, by working with _Alexandria_ you'll learn more about TAG. And vice versa: if you want to experiment with the flexibilities of the TAG model _Alexandria_ is where you start. \n",
    "\n",
    "You'll quickly find out that _Alexandria_ is not just any text repository. It builds on the idea that a text can be studied from various perspectives. For example, you can model a text according to a textual perspective or a documentary perspective; you can focus on adding linguistic annotations of a text, or rather information about structure of its verses. In _Alexandria_, you can store those different perspectives on the same text. What is more, _Alexandria_ is built along the principles of a distributed architecture. It is a command line tool and it can be integrated in your own editor of choice.\n",
    "\n",
    "By bringing together a wide range of information about a text in a structural and distributed way, _Alexandria_ facilitates the exchange and reuse of scholarly data. In short, _Alexandria_ is a powerful modeling instrument for digital textual research."
   ]
  },
  {
   "cell_type": "markdown",
   "metadata": {},
   "source": [
    "### Can I use it?\n",
    "\n",
    "Yes, you can. Below we explain in detail how _Alexandria_ works and what you need to operate it. Keep in mind that both the TAG data model and the _Alexandria_ implementation are under development. This means that by using _Alexandria_ you will make a valuable contribution to the development process. We therefore encourage you to try it out and share your thoughts. "
   ]
  },
  {
   "cell_type": "markdown",
   "metadata": {},
   "source": [
    "### Why should I use it?\n",
    "\n",
    "If you enjoy experimenting with data models and advanced text analysis, _Alexandria_ is the tool for you. If you're used to working with XML, it is highly enlightening to work with a data model in which you can easily model overlapping structures, discontinuous elements, and nonlinear text without having to resort to workarounds. "
   ]
  },
  {
   "cell_type": "markdown",
   "metadata": {},
   "source": [
    "## 2. Okay, tell me more..."
   ]
  },
  {
   "cell_type": "markdown",
   "metadata": {},
   "source": [
    "### What you need to know\n",
    "\n",
    "#### Perspectives, layers and views.\n",
    "\n",
    "Structuring information has both a conceptual and technical side. The conceptual side concerns the theory, the analysis, or the research objective that forms the motivation for the markup. The technical side, then, refers to the specific markup tags you use to express that concept or theory. \n",
    "\n",
    "Let's first get our definitions straight. We've mentioned that reseachers have different perspectives on a text. These have also been described as \"orientations to text\" and include (but are definitely not limited to) a material, linguistic, or genetic perspective. \n",
    "\n",
    "A perspective implies a certain structure of text. For example, if you're interested in the material aspects of a text, you may structure it as _page > section > paragraph > sentence_, which says something like: a page has one or more sections, which have one or more paragraphs, which have one or more sentences. If you'd rather study the linguistic aspects, you may follow the structure _phrase > sentence > word > morpheme_. \n",
    "\n",
    "Such structures can be expressed digitally by adding markup elements to a text (e.g., you identify a set of characters as a title by tagging it with a \"title\" element). In other words: marking up a text means adding one or more layers of information to a set of characters. \n",
    "\n",
    "**Layers** are a crucial concept in _Alexandria_. Briefly put, a layer classifies a set of markup elements. The elements may be grouped because, together, they represent a specific research perspective, or because they are added by a specific user. A layer is hierarchically structured, and a document may contain multiple layers. Markup elements can be in more than one layer. For example: the material structure and the linguistic structure outlined above could form a material layer and a linguistic layer, with the element _sentence_ being part of both layers.\n",
    "\n",
    "A **view** in _Alexandria_ is defined as a selection of markup tags and layers. You, the user, can define your own view(s) by indicating which markup elements or which markup layer(s) you do and don't want to see. The main objective of views is to increase the readability of a large file with lots of markup.  \n",
    "\n",
    "The difference between layers and views may be confusing at first: if you create a view called \"linguistic\" that shows only the \"linguistic\" layer, they are synonymous. But you can also define a linguistic view by selecting a number of markup elements from the linguistic layer, combined with some other elements. It's up to you. \n",
    "\n",
    "In conclusion: a perspective is your orientation to the text. It is related to your expertise, your interpretation of the text, and the objective of your study. It's your motive for making a transcription. A layer is a technique for dealing with (self)overlapping structures in your transcription or for identifying the markup added by users in a collaborative editing process. Each layer represents one hierarchy. A view, finally, is a user-defined set of markup and/or layers. If this sounds all a bit abstract, don't worry. It should become clear once we start working with _Alexandria_."
   ]
  },
  {
   "cell_type": "markdown",
   "metadata": {},
   "source": [
    "### Workflow\n",
    "\n",
    "Take a look at the following workflow."
   ]
  },
  {
   "cell_type": "markdown",
   "metadata": {},
   "source": [
    "<img src=\"images/workflow-alexandria.png\"/>"
   ]
  },
  {
   "cell_type": "markdown",
   "metadata": {
    "slideshow": {
     "slide_type": "slide"
    }
   },
   "source": [
    "In the upper row, reading from left to right, you see several user actions, from creating a transcription to defining a view.  \n",
    "\n",
    "The second row contains the commands associated with these user actions (`$ alexandria add`, `$ alexandria commit`, etc); the third row a visual representation of what these actions produce (a document is registered, a document is committed to your local repo, etc).  \n",
    "\n",
    "The last row symbolises the local repository that you create on your machine when you work with Alexandria. The local repo contains all your transcriptions (document instances) and views.  \n",
    "\n",
    "If you've worked with [git](https://www.atlassian.com/git/tutorials) or [GitHub](https://github.com/), this workflow may seem familiar to you: there's a similar process of initialising a workspace, uploading files, and checking out files. You don't have to be familiar with `git` in order to work with _Alexandria_, but it helps to understand the difference between commands like `add` and `commit`. If you want to know more about it there's an abundance of tutorials online, for example this [cheat sheet](https://gist.github.com/hofmannsven/6814451). In contrast to git, the _Alexandria_ workflow doesn't have a remote repository (yet). You work on your local machine, so make sure to save your files appropriately."
   ]
  },
  {
   "cell_type": "markdown",
   "metadata": {},
   "source": [
    "### Markup language\n",
    "\n",
    "We've developed a markup language called TAGML that allows you to express these and other textual features in a native way. So, if you want to make optimal use of TAG's graph data model for text and the layer-functionality of _Alexandria_, you can transcribe your text in TAGML.\n",
    "\n",
    "#### Data models\n",
    "A markup language is basically a serialisation of a model. In other words, this XML sentence `<root><s>The sun's not yellow</s></root>` is a serialisation of the OHCO model behind it: "
   ]
  },
  {
   "cell_type": "markdown",
   "metadata": {},
   "source": [
    "<img src=\"images/ohco-sun.png\" width=\"300\" heigth=\"300\">"
   ]
  },
  {
   "cell_type": "markdown",
   "metadata": {},
   "source": [
    "So the two tags `<s>` and `</s>` together represent one `s` node in the OHCO tree.  \n",
    "\n",
    "Perhaps we'd like to indicate with markup that the word `sun's` is actually a contraction of the words `sun` and `is`, for example by tagging them with `expan`. As we create a new element node and push down two text nodes one level, we rearrange the document hierarchy: "
   ]
  },
  {
   "cell_type": "markdown",
   "metadata": {},
   "source": [
    "<img src=\"images/ohco-sun2.png\" width=\"400\" heigth=\"400\">"
   ]
  },
  {
   "cell_type": "markdown",
   "metadata": {},
   "source": [
    "This may be basic knowledge to you, but when you are encoding a text it helps to think about the underlying model. TAG's graph model requires a new markup language with which you can tag complex textual occurrences: different coexisting structures, discontinuous elements, etc. \n",
    "\n",
    "There's at least three important points on which TAGML diverges from XML: \n",
    "\n",
    "- it has asymmetrical tags: `[markup> some text <markup]`. \n",
    "- you can use it to express not just strings and markup, but other data types as well, like numbers or boolean values\n",
    "- you can nest annotations.\n",
    "\n",
    "You find detailed information about the TAGML syntax in its [documentation](https://github.com/HuygensING/TAG/tree/master/TAGML) and in a Balisage article on the [topic](http://www.balisage.net/Proceedings/vol21/html/HaentjensDekker01/BalisageVol21-HaentjensDekker01.html#d7633e16).\n",
    "\n",
    "#### Layers\n",
    "\n",
    "In TAGML you can easily indicate to which layer(s) a markup element belongs. \n",
    "\n",
    "Let's return to the example phrase _The sun's not yellow_, now expressed in TAGML :\n",
    "\n",
    "     [root>\n",
    "        [s> The sun's not yellow <s]\n",
    "     <root]\n",
    "\n",
    "You can tag the expansion of `sun's` using similar markup as in XML:\n",
    "\n",
    "    [root>\n",
    "        [s> The [expan>sun is<expan] not yellow <s]\n",
    "    <root]\n",
    "\n",
    "Let's say you also want to add some linguistic information about the negation construction `is not`:\n",
    "    \n",
    "    [root>\n",
    "        [s> The [expan>sun [phr>is<expan] not<phr] yellow <s]\n",
    "    <root]\n",
    "\n",
    "However, this results in two overlapping elements `expan` and `phr`. To avoid this overlap, you create two layers. You give each layer a unique layer ID: \"L1\" for the annotation about the expansion; \"L2\" for the linguistic annotation. You start a new layer with the `+` sign; markup elements can be in more than one layer:\n",
    "\n",
    "    [root|+L1, +L2>\n",
    "        [s|L1,L2> The [expan|L1>sun [phr|L2>is<expan] not<phr] yellow<s]\n",
    "     <root]\n",
    "\n",
    "Because each layer is hierarchically ordered, you have now created two trees that share some markup and text nodes: \n",
    "\n",
    "<img src=\"images/demo.png\" width=\"400\" heigth=\"400\">\n",
    "\n",
    "Here, the L1 tree is visualised in red and the L2 tree in blue. You can see that the word `is` has two parents: the markup node `expan` and the markup node `phr`. There's no longer question of conflicting overlapping elements.\n",
    "\n",
    "If you want, you can now define two views on this TAGML document: one view that shows only the L1 layer and one view that shows only the L2 layer.\n",
    "\n",
    "This is a very basic example; it may be clear that when you actually start transcribing a text in TAGML, the amount of tags and layers in a document grows exponentially which will interfere with the human-legibility. All the more reason for having views!  "
   ]
  },
  {
   "cell_type": "markdown",
   "metadata": {},
   "source": [
    "## 3. I want to use it!\n",
    "\n",
    "Great! Let's get to work.\n",
    "\n",
    "### What you need to know\n",
    "\n",
    "#### Command line\n",
    "\n",
    "Alexandria is a command line tool. In practice this means that it doesn't have an interface: you run Alexandria from your command line (sometimes also called the shell, the terminal, or the command prompt) and interact with it by typing out instructions in words and then hitting the Enter key. Not just any instructions, of course: the command line is very particular about how and what you tell it. \n",
    "\n",
    "You can, to some extent, execute shell commands from a Jupyter Notebook. For this to work, it's important that the notebook is running within the `tutorial` directory which you have downloaded and unzipped.\n",
    "\n",
    "#### Interacting with _Alexandria_ \n",
    "\n",
    "Keep in mind that every command you give to _Alexandria_ starts with `alexandria` and is followed by what you want _Alexandria_ to do: add a new document, export a png file, commit a new view, etc."
   ]
  },
  {
   "cell_type": "markdown",
   "metadata": {},
   "source": [
    "### 3.1. Create a transcription\n",
    "\n",
    "For the purpose of testing, we have created a number of simple TAGML files. The transcriptions are all based on one typescript (tg_lhhs_107) of Raymond Brulez' _La Lanterne de Projection \"Aladin\"_ (courtesy of the [Antwerp Literary Archive](https://www.letterenhuis.be/nl/content/collectie)). "
   ]
  },
  {
   "cell_type": "markdown",
   "metadata": {},
   "source": [
    "Let's take a look at the contents of the `tagml` folder:"
   ]
  },
  {
   "cell_type": "code",
   "execution_count": null,
   "metadata": {},
   "outputs": [],
   "source": [
    "! ls tagml/"
   ]
  },
  {
   "cell_type": "markdown",
   "metadata": {
    "slideshow": {
     "slide_type": "slide"
    }
   },
   "source": [
    "The folder contains three short TAGML transcriptions of the first two paragraphs of a typescript from _La Lanterne de Projection \"Aladin\"_. You can open one of them in Sublime Text Editor to become more familiar with the text and the tagging."
   ]
  },
  {
   "cell_type": "code",
   "execution_count": 3,
   "metadata": {},
   "outputs": [],
   "source": [
    "# If you're working on Mac, you can uncomment the following line to open the file via your command line:\n",
    "# ! open -a \"Sublime Text\" tagml/ts-aladin1.tagml "
   ]
  },
  {
   "cell_type": "markdown",
   "metadata": {},
   "source": [
    "### 3.2. Initialise _Alexandria_\n",
    "\n",
    "First, we will prepare your working directory for usage by initialising _Alexandria_:"
   ]
  },
  {
   "cell_type": "code",
   "execution_count": null,
   "metadata": {},
   "outputs": [],
   "source": [
    "! alexandria init"
   ]
  },
  {
   "cell_type": "markdown",
   "metadata": {},
   "source": [
    "### 3.3. Register a document in _Alexandria_\n",
    "\n",
    "The next step is to register \"ts-aladin1.tagml\" as a document in the _Alexandria_ repository you just started on your machine."
   ]
  },
  {
   "cell_type": "code",
   "execution_count": null,
   "metadata": {},
   "outputs": [],
   "source": [
    "! alexandria add tagml/ts-aladin1.tagml"
   ]
  },
  {
   "cell_type": "markdown",
   "metadata": {},
   "source": [
    "You have now added the TAGML file \"tagml/ts-aladin1.tagml\".\n",
    "Let's repeat that for the second transcription:"
   ]
  },
  {
   "cell_type": "code",
   "execution_count": null,
   "metadata": {},
   "outputs": [],
   "source": [
    "! alexandria add tagml/ts-aladin2.tagml"
   ]
  },
  {
   "cell_type": "markdown",
   "metadata": {},
   "source": [
    "You have now added the TAGML file \"tagml/ts-aladin2.tagml\".\n",
    "\n",
    "At all times, you can check which documents and views are registered in _Alexandria_:"
   ]
  },
  {
   "cell_type": "code",
   "execution_count": null,
   "metadata": {},
   "outputs": [],
   "source": [
    "! alexandria status"
   ]
  },
  {
   "cell_type": "markdown",
   "metadata": {},
   "source": [
    "_Alexandria_ will inform you about the registered documents and views, and shows the state of the source files."
   ]
  },
  {
   "cell_type": "markdown",
   "metadata": {},
   "source": [
    "Adding files to _Alexandria_ basically means you have registered them for your local repository, but mind you: the files are not yet _committed_ to your local repository. Let's do that now: "
   ]
  },
  {
   "cell_type": "code",
   "execution_count": null,
   "metadata": {},
   "outputs": [],
   "source": [
    "! alexandria commit tagml/ts-aladin1.tagml\n",
    "! alexandria commit tagml/ts-aladin2.tagml"
   ]
  },
  {
   "cell_type": "markdown",
   "metadata": {},
   "source": [
    "You can also commit all files that you have added at once with `commit -a`, which means something like \"commit all at once\":"
   ]
  },
  {
   "cell_type": "code",
   "execution_count": null,
   "metadata": {},
   "outputs": [],
   "source": [
    "! alexandria commit -a"
   ]
  },
  {
   "cell_type": "markdown",
   "metadata": {},
   "source": [
    "#### Help! I get a syntax error\n",
    "\n",
    "When you commit a TAGML file to your local _Alexandria_ repository, the file is parsed automatically. If you made any syntax mistakes in your TAGML transcription, _Alexandria_ will abort the commit and inform you that you made a syntax error, what error it is exactly and in which line you can find it. You can go back to the file and correct the mistake. Once you have done that, you can commit the file again."
   ]
  },
  {
   "cell_type": "markdown",
   "metadata": {},
   "source": [
    "### 3.4. Add layers\n",
    "\n",
    "You have now completed the third step of the workflow (see the diagram above) and succesfully added and committed two TAGML documents. These are rather simple documents, each with just one document structure. In the following paragraphs we'll play around with TAGML's ability to express more than one structure by using the layer-functionality.\n",
    "\n",
    "A classic example of overlapping structures in markup is the material perspective versus the textual perspective. \n",
    "\n",
    "Open the file \"ts-aladin1.tagml\" again and compare the transcription with the typescript facsimile below."
   ]
  },
  {
   "cell_type": "markdown",
   "metadata": {},
   "source": [
    "<img src=\"images/typescript-tg_lhhs_107.png\" width=\"400\" heigth=\"400\">"
   ]
  },
  {
   "cell_type": "markdown",
   "metadata": {},
   "source": [
    "The TAGML file contains tags that represent the textual structure (a _paragraph_ element with one or more _sentence_ element children); we also want to represent the material structure (a _page_ element with one or more _line_ element children). \n",
    "\n",
    "To avoid the conflicting overlap between _sentence_ and _line_ elements, we've created two layers. We've given the layer with the textual markup the layer identifier \"T\". The layer with the material information has gotten the layer identifier \"M\". In principle, you're free in your choice of layer ID, but it's best to make it short, logical and coherent. \n",
    "\n",
    "In principle you can start a layer anywhere in the TAGML file, but for reasons of clarity we've created a new element called `layerdef` directly under the root `TAGML`, in which we define the two layers \"T\" and \"M\":\n",
    "\n",
    "```\n",
    "[TAGML>\n",
    "    [layerdef|+M,+T>\n",
    "\n",
    "    [! some text here !]\n",
    "\n",
    "    <layerdef]\n",
    "<TAGML]\n",
    "```\n",
    "\n",
    "Keep in mind that a markup element in the text can be in either one layer, in both, or in none. For more information about the layers and the TAGML syntax, see the [documentation](http://www.balisage.net/Proceedings/vol21/html/HaentjensDekker01/BalisageVol21-HaentjensDekker01.html#overlapping_selfoverlapping_markup). \n",
    "\n",
    "Open the file \"ts-aladin3.tagml\" in your Sublime Text Editor. You find it in the `tagml/` directory."
   ]
  },
  {
   "cell_type": "code",
   "execution_count": 4,
   "metadata": {},
   "outputs": [],
   "source": [
    "# If you're working on Mac, you can open it on the command line\n",
    "# Uncomment the following line and run the cell: \n",
    "# ! open -a \"Sublime Text\" tagml/ts-aladin3.tagml"
   ]
  },
  {
   "cell_type": "markdown",
   "metadata": {},
   "source": [
    "Add the file to your repo:"
   ]
  },
  {
   "cell_type": "code",
   "execution_count": null,
   "metadata": {},
   "outputs": [],
   "source": [
    "! alexandria add tagml/ts-aladin3.tagml"
   ]
  },
  {
   "cell_type": "markdown",
   "metadata": {},
   "source": [
    "then commit it:"
   ]
  },
  {
   "cell_type": "code",
   "execution_count": null,
   "metadata": {},
   "outputs": [],
   "source": [
    "! alexandria commit tagml/ts-aladin3.tagml"
   ]
  },
  {
   "cell_type": "markdown",
   "metadata": {},
   "source": [
    "You have now registered three documents in your local _Alexandria_ repository. Check this by running  "
   ]
  },
  {
   "cell_type": "code",
   "execution_count": null,
   "metadata": {},
   "outputs": [],
   "source": [
    "! alexandria status"
   ]
  },
  {
   "cell_type": "markdown",
   "metadata": {},
   "source": [
    "### 3.5. Define views on the text\n",
    "\n",
    "Conceptually, views are a selection of layers and/or or markup elements. In a JSON file, you identify the markup and layers you want to include or exclude in the view. We use the file \"ts-aladin3.tagml\" as a starting point for the view definition. "
   ]
  },
  {
   "cell_type": "markdown",
   "metadata": {},
   "source": [
    "#### 3.5.1. Markup\n",
    "\n",
    "First, we create a view that includes only the markup element `s`.\n",
    "\n",
    "Make a new JSON file in the `views/` directory:"
   ]
  },
  {
   "cell_type": "markdown",
   "metadata": {},
   "source": [
    "Open the file in your Sublime Text editor:"
   ]
  },
  {
   "cell_type": "code",
   "execution_count": 5,
   "metadata": {},
   "outputs": [],
   "source": [
    "# If you're working on Mac, you can open it on the command line\n",
    "# Uncomment the following line and run the cell:\n",
    "#! open -a \"Sublime Text\" views/view-s-markup.json"
   ]
  },
  {
   "cell_type": "markdown",
   "metadata": {},
   "source": [
    "Enter the following lines of code in the JSON file:\n",
    "\n",
    "```json\n",
    "{\"includeMarkup\": [\"s\"]}\n",
    "```\n",
    "\n",
    "Save and close the file. "
   ]
  },
  {
   "cell_type": "markdown",
   "metadata": {},
   "source": [
    "Open a new JSON file to create another view that includes the markup elements `page` and `line`:"
   ]
  },
  {
   "cell_type": "code",
   "execution_count": 6,
   "metadata": {},
   "outputs": [],
   "source": [
    "# If you're working on Mac, you can open it on the command line\n",
    "# Uncomment the following 2 lines and run the cell:\n",
    "# ! touch views/view-page-line-markup.json\n",
    "# ! open -a \"Sublime Text\" views/view-page-line-markup.json"
   ]
  },
  {
   "cell_type": "markdown",
   "metadata": {},
   "source": [
    "Enter the following lines of code and save the file:\n",
    "```json\n",
    "{\"includeMarkup\": [\"page\", \"line\"]}\n",
    "```"
   ]
  },
  {
   "cell_type": "markdown",
   "metadata": {},
   "source": [
    "#### 3.5.2. Layers\n",
    "\n",
    "Let's create another view, that includes all markup with the layer ID \"T\".\n",
    "\n",
    "Open a new JSON file:"
   ]
  },
  {
   "cell_type": "code",
   "execution_count": 7,
   "metadata": {},
   "outputs": [],
   "source": [
    "# If you're working on Mac, you can open it on the command line\n",
    "# Uncomment the following 2 lines and run the cell:\n",
    "# ! touch views/view-lT.json\n",
    "# ! open -a \"Sublime Text\" views/view-lT.json"
   ]
  },
  {
   "cell_type": "markdown",
   "metadata": {},
   "source": [
    "Enter the following code:\n",
    "\n",
    "```json\n",
    "{\"includeLayer\":[\"T\"]}\n",
    "```"
   ]
  },
  {
   "cell_type": "markdown",
   "metadata": {},
   "source": [
    "Repeat for the layer ID \"M\"."
   ]
  },
  {
   "cell_type": "code",
   "execution_count": 8,
   "metadata": {},
   "outputs": [],
   "source": [
    "# If you're working on Mac, you can open it on the command line\n",
    "# Uncomment the following 2 lines and run the cell:\n",
    "# ! touch views/view-lM.json\n",
    "# ! open -a \"Sublime Text\" views/view-lM.json"
   ]
  },
  {
   "cell_type": "markdown",
   "metadata": {},
   "source": [
    "Enter the following code:\n",
    "\n",
    "```json\n",
    "{\"includeLayer\":[\"M\"]}\n",
    "```\n",
    "\n",
    "Save and close the file."
   ]
  },
  {
   "cell_type": "markdown",
   "metadata": {},
   "source": [
    "#### 3.5.3. Layers and Markup\n",
    "\n",
    "You can also define views that includes a layer and excludes markup:"
   ]
  },
  {
   "cell_type": "code",
   "execution_count": 9,
   "metadata": {},
   "outputs": [],
   "source": [
    "# If you're working on Mac, you can open it on the command line\n",
    "# Uncomment the following 2 lines and run the cell:\n",
    "# ! touch views/view-incl-excl.json\n",
    "# ! open -a \"Sublime Text\" views/view-incl-excl.json"
   ]
  },
  {
   "cell_type": "markdown",
   "metadata": {},
   "source": [
    "Enter the following code and save the file:\n",
    "\n",
    "```json\n",
    "{\"includeLayer\":[\"M\"]}\n",
    "{\"excludeMarkup\":[\"excerpt\", \"p\"]}\n",
    "```\n",
    "\n",
    "You can define as many views on a document as you want."
   ]
  },
  {
   "cell_type": "markdown",
   "metadata": {},
   "source": [
    "### 3.6. Register views in _Alexandria_\n",
    "\n",
    "Let's commit the views we just created into our local repository:"
   ]
  },
  {
   "cell_type": "code",
   "execution_count": null,
   "metadata": {},
   "outputs": [],
   "source": [
    "! alexandria commit -a"
   ]
  },
  {
   "cell_type": "markdown",
   "metadata": {},
   "source": [
    "They should all be ready, so let's check with _Alexandria_ by running `alexandria status` again:"
   ]
  },
  {
   "cell_type": "code",
   "execution_count": null,
   "metadata": {},
   "outputs": [],
   "source": [
    "! alexandria status"
   ]
  },
  {
   "cell_type": "markdown",
   "metadata": {},
   "source": [
    "The command provides information about the version plus the documents and the views you have registered in the repository.\n",
    "\n"
   ]
  },
  {
   "cell_type": "markdown",
   "metadata": {},
   "source": [
    "Let's take a look at the views we have just created:"
   ]
  },
  {
   "cell_type": "code",
   "execution_count": null,
   "metadata": {},
   "outputs": [],
   "source": [
    "! ls views/"
   ]
  },
  {
   "cell_type": "markdown",
   "metadata": {},
   "source": [
    "We can now add these views to the _Alexandria_ repository as well. Note that files with the .json extension are automatically understood as views. You add the views in the same way as you've added the transcriptions:"
   ]
  },
  {
   "cell_type": "code",
   "execution_count": null,
   "metadata": {},
   "outputs": [],
   "source": [
    "! alexandria add views/view-s-markup.json\n",
    "! alexandria commit views/view-s-markup.json"
   ]
  },
  {
   "cell_type": "markdown",
   "metadata": {},
   "source": [
    "The name of the view is derived from the name of the file, so \"view-s-markup.json\" will become `view-s-markup` in the Alexandria repository.\n",
    "\n",
    "Repeat this step for the other views."
   ]
  },
  {
   "cell_type": "markdown",
   "metadata": {},
   "source": [
    "Check with `alexandria status` if everything worked:"
   ]
  },
  {
   "cell_type": "code",
   "execution_count": null,
   "metadata": {},
   "outputs": [],
   "source": [
    "! alexandria status"
   ]
  },
  {
   "cell_type": "markdown",
   "metadata": {},
   "source": [
    "### 3.7. Checkout a view\n",
    "\n",
    "You can use the views you have just defined to checkout a view on the documents:"
   ]
  },
  {
   "cell_type": "code",
   "execution_count": null,
   "metadata": {},
   "outputs": [],
   "source": [
    "! alexandria checkout view-s-markup"
   ]
  },
  {
   "cell_type": "markdown",
   "metadata": {},
   "source": [
    "This updates the TAGML files from the document to contain only text and `s` markup."
   ]
  },
  {
   "cell_type": "code",
   "execution_count": 10,
   "metadata": {},
   "outputs": [],
   "source": [
    "# For Mac users, uncomment the following line and run the cell:\n",
    "# ! open -a \"Sublime Text\" tagml/ts-aladin3.tagml"
   ]
  },
  {
   "cell_type": "markdown",
   "metadata": {},
   "source": [
    "### 3.8. Deactivate a TAGML view  \n",
    "If you want to deactivate the view and return to the original tagml file, you can run:"
   ]
  },
  {
   "cell_type": "code",
   "execution_count": null,
   "metadata": {},
   "outputs": [],
   "source": [
    "! alexandria checkout -"
   ]
  },
  {
   "cell_type": "markdown",
   "metadata": {},
   "source": [
    "The `-` parameter after `checkout` will reset the TAGML files."
   ]
  },
  {
   "cell_type": "markdown",
   "metadata": {},
   "source": [
    "You can repeat these steps for the other views you have created. Play around with it for a while. "
   ]
  },
  {
   "cell_type": "markdown",
   "metadata": {},
   "source": [
    "### 3.9. Edit generated views"
   ]
  },
  {
   "cell_type": "markdown",
   "metadata": {},
   "source": [
    "Open the file \"ts-aladin3.tagml\" again."
   ]
  },
  {
   "cell_type": "code",
   "execution_count": null,
   "metadata": {},
   "outputs": [],
   "source": [
    "# For Mac users, uncomment the following line and run the cell:\n",
    "#! open -a \"Sublime Text\" tagml/ts-aladin3.tagml"
   ]
  },
  {
   "cell_type": "markdown",
   "metadata": {},
   "source": [
    "To be clear: you are now at the 6th step in the workflow. You have \"checked out\" from the repository a certain view on a document. If you want, you can edit the view file by adding or removing markup or text. If you're done editing and save your edits, you can compare the two files (the view you checked out versus the changed view):"
   ]
  },
  {
   "cell_type": "code",
   "execution_count": null,
   "metadata": {},
   "outputs": [],
   "source": [
    "! alexandria diff tagml/ts-aladin3.tagml"
   ]
  },
  {
   "cell_type": "markdown",
   "metadata": {},
   "source": [
    "This `diff` command will compare the changes between this file and the latest commit (in computing, \"diff\" refers to a data comparison)."
   ]
  },
  {
   "cell_type": "markdown",
   "metadata": {},
   "source": [
    "If you don't like the changes, you can revert them:"
   ]
  },
  {
   "cell_type": "code",
   "execution_count": null,
   "metadata": {},
   "outputs": [],
   "source": [
    "! alexandria revert tagml/ts-aladin3.tagml"
   ]
  },
  {
   "cell_type": "markdown",
   "metadata": {},
   "source": [
    "Otherwise, you can commit the changed file to _Alexandria_:"
   ]
  },
  {
   "cell_type": "code",
   "execution_count": null,
   "metadata": {},
   "outputs": [],
   "source": [
    "! alexandria commit tagml/ts-aladin3.tagml"
   ]
  },
  {
   "cell_type": "markdown",
   "metadata": {},
   "source": [
    "### 3.10. Export different data formats\n",
    "\n",
    "You can also export your TAGML file to different data formats:\n",
    "\n",
    "- svg\n",
    "- png\n",
    "- dot\n",
    "- xml\n",
    "\n",
    "The command is `alexandria export-` followed by the format and the name of the document you want to export. For example:"
   ]
  },
  {
   "cell_type": "code",
   "execution_count": null,
   "metadata": {},
   "outputs": [],
   "source": [
    "! alexandria export-xml ts-aladin1"
   ]
  },
  {
   "cell_type": "markdown",
   "metadata": {},
   "source": [
    "This generates XML output of the document defined by the \"ts-aladin1.tagml\" file. \n",
    "\n",
    "Note that the DOT, SVG, and PNG export generate a MultiColored Tree which, especially in the case of a file with large amounts of markup and text, can be rather demanding for human readers."
   ]
  },
  {
   "cell_type": "markdown",
   "metadata": {},
   "source": [
    "## 4. Overview of commands"
   ]
  },
  {
   "cell_type": "markdown",
   "metadata": {},
   "source": [
    "    alexandria init\n",
    "This will prepare the directory for _Alexandria_ usage. It creates subdirectories `tagml` and `views` for the tagml source files and the view definition files, respectively."
   ]
  },
  {
   "cell_type": "markdown",
   "metadata": {},
   "source": [
    "    alexandria add <name tagml file>\n",
    "This will add `<name tagml file>` to the _Alexandria_ watchlist, so changes to theses file will be registered by _Alexandria_."
   ]
  },
  {
   "cell_type": "markdown",
   "metadata": {},
   "source": [
    "    alexandria commit <name file>"
   ]
  },
  {
   "cell_type": "markdown",
   "metadata": {},
   "source": [
    "    alexandria commit -a"
   ]
  },
  {
   "cell_type": "markdown",
   "metadata": {},
   "source": [
    "This will check in the indicated or all (-a) watched files for changes since the last commit.\n",
    "For changed tagml files, it will set up or update a TAG document. For changed view definition files, it will set up or update a view."
   ]
  },
  {
   "cell_type": "markdown",
   "metadata": {},
   "source": [
    "    alexandria checkout <name view>\n",
    "This will activate `<name view>`. All watched tagml files will be overwritten by a tagml serialization of the text and markup of the TAG defined by the view."
   ]
  },
  {
   "cell_type": "markdown",
   "metadata": {},
   "source": [
    "    alexandria checkout -\n",
    "This will deactivate the active view: the tagml files will be overwritten with the complete tagml serialization of the TAG."
   ]
  },
  {
   "cell_type": "markdown",
   "metadata": {},
   "source": [
    "    alexandria diff <name tagml file>\n",
    "This will show the changes made to the tagml file `<name tagml file>` since the last commit."
   ]
  },
  {
   "cell_type": "markdown",
   "metadata": {},
   "source": [
    "     alexandria revert <name tagml file>\n",
    "This will revert the changes made to `<name tagml file>`."
   ]
  },
  {
   "cell_type": "markdown",
   "metadata": {},
   "source": [
    "    alexandria about\n",
    "This will show the version and build date of the app."
   ]
  },
  {
   "cell_type": "markdown",
   "metadata": {},
   "source": [
    "    alexandria status\n",
    "This will show the the active view, the names of the files that have been changed since the last commit, and the names of the documents and views that are registered."
   ]
  },
  {
   "cell_type": "markdown",
   "metadata": {},
   "source": [
    "    alexandria export-<format> <name file>\n",
    "This will export `<name file>` to the indicated export format. \n",
    "\n",
    "Note that for the `alexandria export-svg` command, graphviz needs to be installed, and the command `alexandria export-xml` Trojan Horse markup is used to deal with overlapping hierarchies. If a view is active, this view will be used for the export."
   ]
  },
  {
   "cell_type": "markdown",
   "metadata": {},
   "source": [
    "    alexandria help\n",
    "This will show a list of the available commands and their short descriptions."
   ]
  },
  {
   "cell_type": "code",
   "execution_count": null,
   "metadata": {},
   "outputs": [],
   "source": []
  }
 ],
 "metadata": {
  "kernelspec": {
   "display_name": "Python 3",
   "language": "python",
   "name": "python3"
  },
  "language_info": {
   "codemirror_mode": {
    "name": "ipython",
    "version": 3
   },
   "file_extension": ".py",
   "mimetype": "text/x-python",
   "name": "python",
   "nbconvert_exporter": "python",
   "pygments_lexer": "ipython3",
   "version": "3.6.5"
  }
 },
 "nbformat": 4,
 "nbformat_minor": 2
}
